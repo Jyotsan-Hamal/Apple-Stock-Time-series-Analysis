{
 "cells": [
  {
   "cell_type": "markdown",
   "id": "6677b62e-774e-45c7-8a6b-3432963ebb0b",
   "metadata": {},
   "source": [
    "## Data Collection: \n",
    "Obtain historical stock price data for Apple Inc. from reliable sources such as financial APIs or datasets.In our case we \n",
    "used the data from [kaggle](https://www.kaggle.com/datasets/soumendraprasad/stock?select=Apple.csv).\n",
    " - What each column of data represents:\n",
    " - Open Price at opening time\n",
    " - Hight-> Price at closing time\n",
    " - Low-> Highest value of that stock on that day\n",
    " - Close->  Lowest value of that stock on that day\n",
    " - Adj Close-> It helps in getting an idea of the fair value of a stock\n",
    " - Volume-> measure of the number of stocks traded over a specified period.\n",
    " - Date-> Each Date contains the stock of that company at that date "
   ]
  },
  {
   "cell_type": "code",
   "execution_count": 1,
   "id": "69d8ad46-8623-47f8-bc36-64d7f9f23bde",
   "metadata": {},
   "outputs": [],
   "source": [
    "import pandas as pd\n",
    "import numpy as np\n",
    "import matplotlib.pyplot as plt\n",
    "import seaborn as sns"
   ]
  },
  {
   "cell_type": "code",
   "execution_count": 2,
   "id": "bcafef61-3f73-4114-a03c-0021534837a6",
   "metadata": {},
   "outputs": [],
   "source": [
    "df = pd.read_csv(\"Apple.csv\")"
   ]
  },
  {
   "cell_type": "markdown",
   "id": "cd8a8d81-5d4b-4c43-b141-700396733752",
   "metadata": {},
   "source": [
    "## Data Preprocessing: \n",
    "Clean the raw data, handle missing values, and format the data into a suitable format for analysis."
   ]
  },
  {
   "cell_type": "code",
   "execution_count": 15,
   "id": "0ee1a278-1692-46b6-9bcc-c2819495a79f",
   "metadata": {},
   "outputs": [
    {
     "data": {
      "text/html": [
       "<div>\n",
       "<style scoped>\n",
       "    .dataframe tbody tr th:only-of-type {\n",
       "        vertical-align: middle;\n",
       "    }\n",
       "\n",
       "    .dataframe tbody tr th {\n",
       "        vertical-align: top;\n",
       "    }\n",
       "\n",
       "    .dataframe thead th {\n",
       "        text-align: right;\n",
       "    }\n",
       "</style>\n",
       "<table border=\"1\" class=\"dataframe\">\n",
       "  <thead>\n",
       "    <tr style=\"text-align: right;\">\n",
       "      <th></th>\n",
       "      <th>Open</th>\n",
       "      <th>High</th>\n",
       "      <th>Low</th>\n",
       "      <th>Close</th>\n",
       "      <th>Adj Close</th>\n",
       "      <th>Volume</th>\n",
       "      <th>Date</th>\n",
       "    </tr>\n",
       "  </thead>\n",
       "  <tbody>\n",
       "    <tr>\n",
       "      <th>0</th>\n",
       "      <td>0.936384</td>\n",
       "      <td>1.004464</td>\n",
       "      <td>0.907924</td>\n",
       "      <td>0.999442</td>\n",
       "      <td>0.850643</td>\n",
       "      <td>535796800</td>\n",
       "      <td>2000-01-03</td>\n",
       "    </tr>\n",
       "    <tr>\n",
       "      <th>1</th>\n",
       "      <td>0.966518</td>\n",
       "      <td>0.987723</td>\n",
       "      <td>0.903460</td>\n",
       "      <td>0.915179</td>\n",
       "      <td>0.778926</td>\n",
       "      <td>512377600</td>\n",
       "      <td>2000-01-04</td>\n",
       "    </tr>\n",
       "    <tr>\n",
       "      <th>2</th>\n",
       "      <td>0.926339</td>\n",
       "      <td>0.987165</td>\n",
       "      <td>0.919643</td>\n",
       "      <td>0.928571</td>\n",
       "      <td>0.790324</td>\n",
       "      <td>778321600</td>\n",
       "      <td>2000-01-05</td>\n",
       "    </tr>\n",
       "    <tr>\n",
       "      <th>3</th>\n",
       "      <td>0.947545</td>\n",
       "      <td>0.955357</td>\n",
       "      <td>0.848214</td>\n",
       "      <td>0.848214</td>\n",
       "      <td>0.721931</td>\n",
       "      <td>767972800</td>\n",
       "      <td>2000-01-06</td>\n",
       "    </tr>\n",
       "    <tr>\n",
       "      <th>4</th>\n",
       "      <td>0.861607</td>\n",
       "      <td>0.901786</td>\n",
       "      <td>0.852679</td>\n",
       "      <td>0.888393</td>\n",
       "      <td>0.756127</td>\n",
       "      <td>460734400</td>\n",
       "      <td>2000-01-07</td>\n",
       "    </tr>\n",
       "  </tbody>\n",
       "</table>\n",
       "</div>"
      ],
      "text/plain": [
       "       Open      High       Low     Close  Adj Close     Volume       Date\n",
       "0  0.936384  1.004464  0.907924  0.999442   0.850643  535796800 2000-01-03\n",
       "1  0.966518  0.987723  0.903460  0.915179   0.778926  512377600 2000-01-04\n",
       "2  0.926339  0.987165  0.919643  0.928571   0.790324  778321600 2000-01-05\n",
       "3  0.947545  0.955357  0.848214  0.848214   0.721931  767972800 2000-01-06\n",
       "4  0.861607  0.901786  0.852679  0.888393   0.756127  460734400 2000-01-07"
      ]
     },
     "execution_count": 15,
     "metadata": {},
     "output_type": "execute_result"
    }
   ],
   "source": [
    "df.head(5)"
   ]
  },
  {
   "cell_type": "code",
   "execution_count": 4,
   "id": "73bf7efd-0349-4ada-89f1-5a772e84d7c0",
   "metadata": {},
   "outputs": [
    {
     "data": {
      "text/html": [
       "<div>\n",
       "<style scoped>\n",
       "    .dataframe tbody tr th:only-of-type {\n",
       "        vertical-align: middle;\n",
       "    }\n",
       "\n",
       "    .dataframe tbody tr th {\n",
       "        vertical-align: top;\n",
       "    }\n",
       "\n",
       "    .dataframe thead th {\n",
       "        text-align: right;\n",
       "    }\n",
       "</style>\n",
       "<table border=\"1\" class=\"dataframe\">\n",
       "  <thead>\n",
       "    <tr style=\"text-align: right;\">\n",
       "      <th></th>\n",
       "      <th>Open</th>\n",
       "      <th>High</th>\n",
       "      <th>Low</th>\n",
       "      <th>Close</th>\n",
       "      <th>Adj Close</th>\n",
       "      <th>Volume</th>\n",
       "    </tr>\n",
       "  </thead>\n",
       "  <tbody>\n",
       "    <tr>\n",
       "      <th>count</th>\n",
       "      <td>5839.000000</td>\n",
       "      <td>5839.000000</td>\n",
       "      <td>5839.000000</td>\n",
       "      <td>5839.000000</td>\n",
       "      <td>5839.000000</td>\n",
       "      <td>5.839000e+03</td>\n",
       "    </tr>\n",
       "    <tr>\n",
       "      <th>mean</th>\n",
       "      <td>30.964461</td>\n",
       "      <td>31.318350</td>\n",
       "      <td>30.619127</td>\n",
       "      <td>30.982545</td>\n",
       "      <td>29.763246</td>\n",
       "      <td>4.112873e+08</td>\n",
       "    </tr>\n",
       "    <tr>\n",
       "      <th>std</th>\n",
       "      <td>44.291183</td>\n",
       "      <td>44.842037</td>\n",
       "      <td>43.768914</td>\n",
       "      <td>44.328922</td>\n",
       "      <td>44.158932</td>\n",
       "      <td>3.867277e+08</td>\n",
       "    </tr>\n",
       "    <tr>\n",
       "      <th>min</th>\n",
       "      <td>0.231964</td>\n",
       "      <td>0.235536</td>\n",
       "      <td>0.227143</td>\n",
       "      <td>0.234286</td>\n",
       "      <td>0.199405</td>\n",
       "      <td>3.519590e+07</td>\n",
       "    </tr>\n",
       "    <tr>\n",
       "      <th>25%</th>\n",
       "      <td>1.931965</td>\n",
       "      <td>1.955714</td>\n",
       "      <td>1.897143</td>\n",
       "      <td>1.925714</td>\n",
       "      <td>1.639011</td>\n",
       "      <td>1.384356e+08</td>\n",
       "    </tr>\n",
       "    <tr>\n",
       "      <th>50%</th>\n",
       "      <td>13.321429</td>\n",
       "      <td>13.523214</td>\n",
       "      <td>13.160357</td>\n",
       "      <td>13.358929</td>\n",
       "      <td>11.370029</td>\n",
       "      <td>2.942240e+08</td>\n",
       "    </tr>\n",
       "    <tr>\n",
       "      <th>75%</th>\n",
       "      <td>36.438751</td>\n",
       "      <td>36.795000</td>\n",
       "      <td>36.237501</td>\n",
       "      <td>36.577499</td>\n",
       "      <td>34.384544</td>\n",
       "      <td>5.476394e+08</td>\n",
       "    </tr>\n",
       "    <tr>\n",
       "      <th>max</th>\n",
       "      <td>182.630005</td>\n",
       "      <td>182.940002</td>\n",
       "      <td>179.119995</td>\n",
       "      <td>182.009995</td>\n",
       "      <td>180.683868</td>\n",
       "      <td>7.421641e+09</td>\n",
       "    </tr>\n",
       "  </tbody>\n",
       "</table>\n",
       "</div>"
      ],
      "text/plain": [
       "              Open         High          Low        Close    Adj Close  \\\n",
       "count  5839.000000  5839.000000  5839.000000  5839.000000  5839.000000   \n",
       "mean     30.964461    31.318350    30.619127    30.982545    29.763246   \n",
       "std      44.291183    44.842037    43.768914    44.328922    44.158932   \n",
       "min       0.231964     0.235536     0.227143     0.234286     0.199405   \n",
       "25%       1.931965     1.955714     1.897143     1.925714     1.639011   \n",
       "50%      13.321429    13.523214    13.160357    13.358929    11.370029   \n",
       "75%      36.438751    36.795000    36.237501    36.577499    34.384544   \n",
       "max     182.630005   182.940002   179.119995   182.009995   180.683868   \n",
       "\n",
       "             Volume  \n",
       "count  5.839000e+03  \n",
       "mean   4.112873e+08  \n",
       "std    3.867277e+08  \n",
       "min    3.519590e+07  \n",
       "25%    1.384356e+08  \n",
       "50%    2.942240e+08  \n",
       "75%    5.476394e+08  \n",
       "max    7.421641e+09  "
      ]
     },
     "execution_count": 4,
     "metadata": {},
     "output_type": "execute_result"
    }
   ],
   "source": [
    "df.describe()"
   ]
  },
  {
   "cell_type": "code",
   "execution_count": 5,
   "id": "c917ddea-7699-40f6-9f9b-6f2dbe67e9cb",
   "metadata": {},
   "outputs": [
    {
     "data": {
      "text/plain": [
       "Open         0\n",
       "High         0\n",
       "Low          0\n",
       "Close        0\n",
       "Adj Close    0\n",
       "Volume       0\n",
       "Date         0\n",
       "dtype: int64"
      ]
     },
     "execution_count": 5,
     "metadata": {},
     "output_type": "execute_result"
    }
   ],
   "source": [
    "df.isna().sum()"
   ]
  },
  {
   "cell_type": "code",
   "execution_count": 6,
   "id": "4efd0ee3-c6d9-4c94-b982-34c4c82449ba",
   "metadata": {},
   "outputs": [
    {
     "name": "stdout",
     "output_type": "stream",
     "text": [
      "<class 'pandas.core.frame.DataFrame'>\n",
      "RangeIndex: 5839 entries, 0 to 5838\n",
      "Data columns (total 7 columns):\n",
      " #   Column     Non-Null Count  Dtype  \n",
      "---  ------     --------------  -----  \n",
      " 0   Open       5839 non-null   float64\n",
      " 1   High       5839 non-null   float64\n",
      " 2   Low        5839 non-null   float64\n",
      " 3   Close      5839 non-null   float64\n",
      " 4   Adj Close  5839 non-null   float64\n",
      " 5   Volume     5839 non-null   int64  \n",
      " 6   Date       5839 non-null   object \n",
      "dtypes: float64(5), int64(1), object(1)\n",
      "memory usage: 319.4+ KB\n"
     ]
    }
   ],
   "source": [
    "df.info()"
   ]
  },
  {
   "cell_type": "markdown",
   "id": "541e3e36-46cf-4519-93d2-367b79806653",
   "metadata": {},
   "source": [
    "## In above dataframe column you can see data type of Date Column is Object and we need to convert datetime."
   ]
  },
  {
   "cell_type": "code",
   "execution_count": 17,
   "id": "d6d4f0af-7717-42fb-8c40-30af3a09a55e",
   "metadata": {},
   "outputs": [],
   "source": [
    "df['Date'] = pd.to_datetime(df['Date'])"
   ]
  },
  {
   "cell_type": "markdown",
   "id": "2a0cbb61-8786-4255-bdcb-776e59822fa1",
   "metadata": {},
   "source": [
    "# EDA"
   ]
  },
  {
   "cell_type": "code",
   "execution_count": null,
   "id": "2b2ce2b9-1a00-4509-b27a-26bd4e9545e3",
   "metadata": {},
   "outputs": [],
   "source": []
  },
  {
   "cell_type": "code",
   "execution_count": 14,
   "id": "ac0c6283-ecf4-4894-a6d7-4e0dcd253ada",
   "metadata": {},
   "outputs": [
    {
     "data": {
      "image/png": "[encoded data removed]",
      "text/plain": [
       "<Figure size 1500x600 with 1 Axes>"
      ]
     },
     "metadata": {},
     "output_type": "display_data"
    }
   ],
   "source": [
    "plt.figure(figsize=(15,6))\n",
    "plt.plot(df['Date'],df['High'])\n",
    "plt.plot(df['Date'],df['Low'])\n",
    "plt.xticks(rotation='vertical')\n",
    "plt.show()"
   ]
  },
  {
   "cell_type": "code",
   "execution_count": null,
   "id": "67df44b4-5739-4778-8177-2ddada0f98ec",
   "metadata": {},
   "outputs": [],
   "source": []
  }
 ],
 "metadata": {
  "kernelspec": {
   "display_name": "Python 3 (ipykernel)",
   "language": "python",
   "name": "python3"
  },
  "language_info": {
   "codemirror_mode": {
    "name": "ipython",
    "version": 3
   },
   "file_extension": ".py",
   "mimetype": "text/x-python",
   "name": "python",
   "nbconvert_exporter": "python",
   "pygments_lexer": "ipython3",
   "version": "3.10.12"
  }
 },
 "nbformat": 4,
 "nbformat_minor": 5
}
