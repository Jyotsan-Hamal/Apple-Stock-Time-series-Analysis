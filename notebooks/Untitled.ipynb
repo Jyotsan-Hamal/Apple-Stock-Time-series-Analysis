{
 "cells": [
  {
   "cell_type": "markdown",
   "id": "6677b62e-774e-45c7-8a6b-3432963ebb0b",
   "metadata": {},
   "source": [
    "# Project Overview\n",
    "## This Project"
   ]
  },
  {
   "cell_type": "code",
   "execution_count": 2,
   "id": "69d8ad46-8623-47f8-bc36-64d7f9f23bde",
   "metadata": {},
   "outputs": [],
   "source": [
    "import pandas as pd\n",
    "import numpy as np\n",
    "import matplotlib.pyplot as plt\n",
    "import seaborn as sns"
   ]
  },
  {
   "cell_type": "code",
   "execution_count": 3,
   "id": "bcafef61-3f73-4114-a03c-0021534837a6",
   "metadata": {},
   "outputs": [],
   "source": [
    "df = pd.read_csv(\"Apple.csv\")"
   ]
  },
  {
   "cell_type": "code",
   "execution_count": 6,
   "id": "0ee1a278-1692-46b6-9bcc-c2819495a79f",
   "metadata": {},
   "outputs": [
    {
     "data": {
      "text/html": [
       "<div>\n",
       "<style scoped>\n",
       "    .dataframe tbody tr th:only-of-type {\n",
       "        vertical-align: middle;\n",
       "    }\n",
       "\n",
       "    .dataframe tbody tr th {\n",
       "        vertical-align: top;\n",
       "    }\n",
       "\n",
       "    .dataframe thead th {\n",
       "        text-align: right;\n",
       "    }\n",
       "</style>\n",
       "<table border=\"1\" class=\"dataframe\">\n",
       "  <thead>\n",
       "    <tr style=\"text-align: right;\">\n",
       "      <th></th>\n",
       "      <th>Open</th>\n",
       "      <th>High</th>\n",
       "      <th>Low</th>\n",
       "      <th>Close</th>\n",
       "      <th>Adj Close</th>\n",
       "      <th>Volume</th>\n",
       "      <th>Date</th>\n",
       "    </tr>\n",
       "  </thead>\n",
       "  <tbody>\n",
       "    <tr>\n",
       "      <th>2408</th>\n",
       "      <td>5.821071</td>\n",
       "      <td>5.892857</td>\n",
       "      <td>5.818214</td>\n",
       "      <td>5.835357</td>\n",
       "      <td>4.966580</td>\n",
       "      <td>422536800</td>\n",
       "      <td>2009-07-31</td>\n",
       "    </tr>\n",
       "    <tr>\n",
       "      <th>4288</th>\n",
       "      <td>29.850000</td>\n",
       "      <td>30.022499</td>\n",
       "      <td>29.842501</td>\n",
       "      <td>29.945000</td>\n",
       "      <td>27.981316</td>\n",
       "      <td>102389200</td>\n",
       "      <td>2017-01-19</td>\n",
       "    </tr>\n",
       "    <tr>\n",
       "      <th>5249</th>\n",
       "      <td>117.190002</td>\n",
       "      <td>119.629997</td>\n",
       "      <td>116.440002</td>\n",
       "      <td>119.489998</td>\n",
       "      <td>117.892601</td>\n",
       "      <td>112295000</td>\n",
       "      <td>2020-11-11</td>\n",
       "    </tr>\n",
       "    <tr>\n",
       "      <th>3254</th>\n",
       "      <td>18.750000</td>\n",
       "      <td>19.232500</td>\n",
       "      <td>18.627857</td>\n",
       "      <td>18.922144</td>\n",
       "      <td>16.248005</td>\n",
       "      <td>630484400</td>\n",
       "      <td>2012-12-10</td>\n",
       "    </tr>\n",
       "    <tr>\n",
       "      <th>137</th>\n",
       "      <td>0.985491</td>\n",
       "      <td>1.014509</td>\n",
       "      <td>0.924107</td>\n",
       "      <td>0.940848</td>\n",
       "      <td>0.800773</td>\n",
       "      <td>457872800</td>\n",
       "      <td>2000-07-19</td>\n",
       "    </tr>\n",
       "  </tbody>\n",
       "</table>\n",
       "</div>"
      ],
      "text/plain": [
       "            Open        High         Low       Close   Adj Close     Volume  \\\n",
       "2408    5.821071    5.892857    5.818214    5.835357    4.966580  422536800   \n",
       "4288   29.850000   30.022499   29.842501   29.945000   27.981316  102389200   \n",
       "5249  117.190002  119.629997  116.440002  119.489998  117.892601  112295000   \n",
       "3254   18.750000   19.232500   18.627857   18.922144   16.248005  630484400   \n",
       "137     0.985491    1.014509    0.924107    0.940848    0.800773  457872800   \n",
       "\n",
       "            Date  \n",
       "2408  2009-07-31  \n",
       "4288  2017-01-19  \n",
       "5249  2020-11-11  \n",
       "3254  2012-12-10  \n",
       "137   2000-07-19  "
      ]
     },
     "execution_count": 6,
     "metadata": {},
     "output_type": "execute_result"
    }
   ],
   "source": [
    "df.sample(5)"
   ]
  },
  {
   "cell_type": "code",
   "execution_count": null,
   "id": "73bf7efd-0349-4ada-89f1-5a772e84d7c0",
   "metadata": {},
   "outputs": [],
   "source": []
  }
 ],
 "metadata": {
  "kernelspec": {
   "display_name": "Python 3 (ipykernel)",
   "language": "python",
   "name": "python3"
  },
  "language_info": {
   "codemirror_mode": {
    "name": "ipython",
    "version": 3
   },
   "file_extension": ".py",
   "mimetype": "text/x-python",
   "name": "python",
   "nbconvert_exporter": "python",
   "pygments_lexer": "ipython3",
   "version": "3.10.12"
  }
 },
 "nbformat": 4,
 "nbformat_minor": 5
}
